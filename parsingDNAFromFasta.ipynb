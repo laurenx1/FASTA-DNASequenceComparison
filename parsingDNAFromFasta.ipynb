{
  "nbformat": 4,
  "nbformat_minor": 0,
  "metadata": {
    "colab": {
      "provenance": [],
      "include_colab_link": true
    },
    "kernelspec": {
      "name": "python3",
      "display_name": "Python 3"
    },
    "language_info": {
      "name": "python"
    }
  },
  "cells": [
    {
      "cell_type": "markdown",
      "metadata": {
        "id": "view-in-github",
        "colab_type": "text"
      },
      "source": [
        "<a href=\"https://colab.research.google.com/github/laurenx1/FASTA-DNASequenceComparison/blob/main/parsingDNAFromFasta.ipynb\" target=\"_parent\"><img src=\"https://colab.research.google.com/assets/colab-badge.svg\" alt=\"Open In Colab\"/></a>"
      ]
    },
    {
      "cell_type": "code",
      "source": [
        "import numpy as np # numeric computing"
      ],
      "metadata": {
        "id": "ccImVGUgDxJQ"
      },
      "execution_count": null,
      "outputs": []
    },
    {
      "cell_type": "markdown",
      "source": [
        "function that parses through the file passed in.\n",
        "\n",
        "arguments: str filepath - name of the file, the path to the file\n",
        "\n",
        "returns: list seq - list of lists of each line of the file, each element of the outer list is a different frog, each element of the inner list is the header and the DNA sequence."
      ],
      "metadata": {
        "id": "J6TK457WQBRF"
      }
    },
    {
      "cell_type": "code",
      "source": [
        "def readFasta (filepath): \n",
        "  \"\"\"parse FASTA file, store its data\"\"\"\n",
        "  \n",
        "  seqs = [] # stores file data\n",
        "\n",
        "  with open (filepath, 'r') as f:\n",
        "\n",
        "    currentHeader = ''\n",
        "    currentSeq = ''\n",
        "\n",
        "    for line in f: \n",
        "      # check if header\n",
        "      if line[0] == '>':\n",
        "        if currentHeader != '':\n",
        "          seqs.append([currentHeader, currentSeq])\n",
        "          currentSeq = ''\n",
        "        \n",
        "        currentHeader = line.strip('\\n')\n",
        "         \n",
        "      else: \n",
        "        currentSeq += line.strip('\\n')\n",
        "\n",
        "    seqs.append([currentHeader, currentSeq])\n",
        "\n",
        "  return seqs "
      ],
      "metadata": {
        "id": "hQf1TypWGon5"
      },
      "execution_count": null,
      "outputs": []
    },
    {
      "cell_type": "markdown",
      "source": [
        "make a variable for the parsed file data"
      ],
      "metadata": {
        "id": "duLoeLWMQFjK"
      }
    },
    {
      "cell_type": "code",
      "source": [
        "def getreadFasta(filepath):\n",
        "  return readFasta(filepath)"
      ],
      "metadata": {
        "id": "Y_U5LtuUGxt6"
      },
      "execution_count": null,
      "outputs": []
    },
    {
      "cell_type": "markdown",
      "source": [
        "list of only the DNA sequences from the parsed data"
      ],
      "metadata": {
        "id": "amWlk8WbQKEn"
      }
    },
    {
      "cell_type": "code",
      "source": [
        "def getSeqs (filepath):\n",
        "  turtleDNA = []\n",
        "  for turtle in getreadFasta(filepath):\n",
        "    turtleDNA.append(turtle[1])\n",
        "  \n",
        "  return turtleDNA"
      ],
      "metadata": {
        "id": "NDvlz_8WHppZ"
      },
      "execution_count": null,
      "outputs": []
    },
    {
      "cell_type": "markdown",
      "source": [
        "function that returns the number of SNPs of 2 DNA sequences based on how many differences in their DNA sequence\n",
        "\n",
        "arguments: list of DNA sequences \n",
        "\n",
        "returns float score/total - gives count of total differences\n",
        "\n",
        "necessary abstraction for code quality"
      ],
      "metadata": {
        "id": "fa2ERYs4QWPJ"
      }
    },
    {
      "cell_type": "code",
      "source": [
        "def similarityScore(t1, t2): \n",
        "  score = 0\n",
        "\n",
        "  for i in range (len(t1)):\n",
        "    if t1[i] != t2[i] and t1[i] != '-' and t2[i] != '-': \n",
        "      score += 1\n",
        "\n",
        "  return (score)"
      ],
      "metadata": {
        "id": "hsP5ENEMIQRj"
      },
      "execution_count": null,
      "outputs": []
    },
    {
      "cell_type": "markdown",
      "source": [
        "function that loops through all the file data in order to compare each seq to the other, displays (prints) the results"
      ],
      "metadata": {
        "id": "zlrqXVCXQoGH"
      }
    },
    {
      "cell_type": "code",
      "source": [
        "def scoreAll (filepath):\n",
        "  turtleDNA = getSeqs(filepath)\n",
        "  seq1Count = 0 \n",
        "\n",
        "  for seq1 in turtleDNA: \n",
        "    seq2Count = 0\n",
        "    for seq2 in turtleDNA:\n",
        "      simScore = similarityScore(seq1, seq2)\n",
        "      print (getReadFasta(filepath)[seq1Count][0] + \" and \" + getReadFasta(filepath)[seq2Count][0])\n",
        "      print (simScore)\n",
        "      print (\"\\n\")\n",
        "      seq2Count += 1\n",
        "    seq1Count += 1\n",
        "  "
      ],
      "metadata": {
        "id": "eRV73a0AJQB5"
      },
      "execution_count": null,
      "outputs": []
    },
    {
      "cell_type": "markdown",
      "source": [
        "---"
      ],
      "metadata": {
        "id": "Du6YvQPETo-g"
      }
    }
  ]
}